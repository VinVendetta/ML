{
 "cells": [
  {
   "cell_type": "markdown",
   "metadata": {},
   "source": [
    "# Data Analysis(2)\n",
    "\n",
    "The data is available [here](http://archive.ics.uci.edu/ml/datasets/Abalone)\n",
    "\n",
    "----\n",
    "\n",
    "## Instruction\n",
    "- The data set is about the abalone.\n",
    "- Number of examples: 4177\n",
    "\n",
    "- Predicting the age of abalone from physical measurements.\n",
    "- The age of abalone is determined by cutting the shell through the cone, staining it, and counting the number of rings through a microscope -- a boring and time-consuming task.  \n",
    "- Other measurements, which are easier to obtain, are used to predict the age.  \n",
    "- Further information, such as weather patterns and location (hence food availability) may be required to solve the problem.\n",
    "\n",
    "## Attributes\n",
    "\n",
    "Given is the attribute name, attribute type, the measurement unit and a\n",
    "brief description.  The number of rings is the value to predict: either\n",
    "as a continuous value or as a classification problem.\n",
    "   \n",
    "\n",
    "|Name|Data Type|Meas.|Description|\n",
    "|-|-|-|-|\n",
    "|Sex\t\t|nominal\t| None |M, F, and I (infant)|\n",
    "|Length\t\t|continuous\t|mm\t|Longest shell measurement|\n",
    "|Diameter\t|continuous\t|mm\t|perpendicular to length|\n",
    "|Height\t\t|continuous\t|mm\t|with meat in shell|\n",
    "|Whole weight\t|continuous\t|grams\t|whole abalone|\n",
    "|Shucked weight\t|continuous\t|grams\t|weight of meat|\n",
    "|Viscera weight\t|continuous\t|grams\t|gut weight (after bleeding)|\n",
    "|Shell weight\t|continuous\t|grams\t|after being dried|\n",
    "|Rings\t\t|integer\t\t\t|+1.5 |gives the age in years|\n",
    "\n",
    "   Statistics for numeric domains:\n",
    "\n",
    "|Length\t|Diam|\tHeight|\tWhole|\tShucked|\tViscera|\tShell|\tRings|\n",
    "|-|-|-|-|-|-|-|-|\n",
    "|Min\t|0.075\t|0.055\t|0.000\t|0.002\t|0.001\t|0.001\t|0.002\t    |1\n",
    "|Max\t|0.815\t|0.650\t|1.130\t|2.826\t|1.488\t|0.760\t|1.005\t   |29\n",
    "|Mean\t|0.524\t|0.408\t|0.140\t|0.829\t|0.359\t|0.181\t|0.239\t|9.934\n",
    "|SD\t|0.120\t|0.099\t|0.042\t|0.490\t|0.222\t|0.110\t|0.139\t|3.224\n",
    "|Correl\t|0.557\t|0.575\t|0.557\t|0.540\t|0.421\t|0.504\t|0.628\t  |1.0\n",
    "\n",
    "\n",
    "   Class Distribution:\n",
    "\n",
    "|Class|\tExamples|Class|Examples|\n",
    "|-----| --------|-----|-------|\n",
    "|1|1|2|1\n",
    "|3|\t15|4|\t57\n",
    "|5|\t115|6|\t259\n",
    "|7|\t391|8|\t568\n",
    "|9|\t689|10|634\n",
    "|11| 487|12|267\n",
    "|13|203|14|126\n",
    "|15|103|16|67\n",
    "|17|58|18|42\n",
    "|19\t|32|20\t|26\n",
    "|21\t|14|22\t|6\n",
    "|23\t|9|24\t|2\n",
    "|25\t|1|26\t|1\n",
    "|27\t|2|29\t|1\n",
    "\n",
    "-------\n",
    "\n",
    "Total\t4177\n",
    "\n",
    "\n",
    "## Preprocessing\n",
    "- For the `Sex` column, i prefer on-hot vectorization to setting three numbers for `M,F,I`\n",
    "- For the `Rings` column, i didn't add 1.5 to it to get age but using the raw data instead"
   ]
  },
  {
   "cell_type": "code",
   "execution_count": 1,
   "metadata": {},
   "outputs": [
    {
     "name": "stdout",
     "output_type": "stream",
     "text": [
      "Index(['M', 'F', 'I', 'Length', 'Diamter', 'Height', 'WholeWeight',\n",
      "       'ShuckedWeight', 'VisceraWeight', 'SellWeight', 'Rings'],\n",
      "      dtype='object')\n",
      "                      M         F         I    Length   Diamter    Height  \\\n",
      "M              1.000000 -0.512528 -0.522541  0.236543  0.240376  0.215459   \n",
      "F             -0.512528  1.000000 -0.464298  0.309666  0.318626  0.298421   \n",
      "I             -0.522541 -0.464298  1.000000 -0.551465 -0.564315 -0.518552   \n",
      "Length         0.236543  0.309666 -0.551465  1.000000  0.986812  0.827554   \n",
      "Diamter        0.240376  0.318626 -0.564315  0.986812  1.000000  0.833684   \n",
      "Height         0.215459  0.298421 -0.518552  0.827554  0.833684  1.000000   \n",
      "WholeWeight    0.252038  0.299741 -0.557592  0.925261  0.925452  0.819221   \n",
      "ShuckedWeight  0.251793  0.263991 -0.521842  0.897914  0.893162  0.774972   \n",
      "VisceraWeight  0.242194  0.308444 -0.556081  0.903018  0.899724  0.798319   \n",
      "SellWeight     0.235391  0.306319 -0.546953  0.897706  0.905330  0.817338   \n",
      "Rings          0.181831  0.250279 -0.436063  0.556720  0.574660  0.557467   \n",
      "\n",
      "               WholeWeight  ShuckedWeight  VisceraWeight  SellWeight     Rings  \n",
      "M                 0.252038       0.251793       0.242194    0.235391  0.181831  \n",
      "F                 0.299741       0.263991       0.308444    0.306319  0.250279  \n",
      "I                -0.557592      -0.521842      -0.556081   -0.546953 -0.436063  \n",
      "Length            0.925261       0.897914       0.903018    0.897706  0.556720  \n",
      "Diamter           0.925452       0.893162       0.899724    0.905330  0.574660  \n",
      "Height            0.819221       0.774972       0.798319    0.817338  0.557467  \n",
      "WholeWeight       1.000000       0.969405       0.966375    0.955355  0.540390  \n",
      "ShuckedWeight     0.969405       1.000000       0.931961    0.882617  0.420884  \n",
      "VisceraWeight     0.966375       0.931961       1.000000    0.907656  0.503819  \n",
      "SellWeight        0.955355       0.882617       0.907656    1.000000  0.627574  \n",
      "Rings             0.540390       0.420884       0.503819    0.627574  1.000000  \n"
     ]
    }
   ],
   "source": [
    "import pandas as pd\n",
    "import numpy as np\n",
    "\n",
    "\n",
    "data = pd.read_csv(\"./abalone_data.txt\", names=[\"Sex\", \"Length\", \"Diamter\", \"Height\", \n",
    "    \"WholeWeight\", \"ShuckedWeight\", \"VisceraWeight\", \"SellWeight\", \"Rings\"])\n",
    "\n",
    "# data.replace(to_replace=\"M\", value=\"1\", inplace=True)\n",
    "# data.replace(to_replace=\"F\", value=\"0\", inplace=True)\n",
    "# data.replace(to_replace=\"I\", value=\"0.5\", inplace=True)\n",
    "\n",
    "Sex = data.pop(\"Sex\")\n",
    "I = Sex.copy()\n",
    "I.replace(to_replace=\"I\", value=1, inplace=True)\n",
    "I.replace(to_replace=\"M\", value=0, inplace=True)\n",
    "I.replace(to_replace=\"F\", value=0, inplace=True)\n",
    "\n",
    "M = Sex.copy()\n",
    "M.replace(to_replace=\"I\", value=0, inplace=True)\n",
    "M.replace(to_replace=\"M\", value=1, inplace=True)\n",
    "M.replace(to_replace=\"F\", value=0, inplace=True)\n",
    "\n",
    "F = Sex.copy()\n",
    "F.replace(to_replace=\"I\", value=0, inplace=True)\n",
    "F.replace(to_replace=\"M\", value=0, inplace=True)\n",
    "F.replace(to_replace=\"F\", value=1, inplace=True)\n",
    "\n",
    "data.insert(0, \"I\", I)\n",
    "data.insert(0, \"F\", F)\n",
    "data.insert(0, \"M\", M)\n",
    "\n",
    "print(data.columns)\n",
    "print(data.corr())\n",
    "\n"
   ]
  },
  {
   "cell_type": "markdown",
   "metadata": {},
   "source": [
    "|Attributes|M|F|I|Length|Diamter|Height|WholeWeight|ShuckedWeight|VisceraWeight|SellWeight|Rings\n",
    "|-|-|-|-|-|-|-|-|-|-|-|-|\n",
    "|M|1.000000|-0.512528|-0.522541|0.236543|0.240376|0.215459|0.252038|0.251793|0.242194|0.235391|0.181831    \n",
    "|F|-0.512528|1.000000|-0.464298|0.309666|0.318626|0.298421|0.299741|0.263991|0.308444|0.306319|0.250279 \n",
    "|I|-0.522541|-0.464298|1.000000|-0.551465|-0.564315|-0.518552|-0.557592|-0.521842|-0.556081|-0.546953|-0.436063  \n",
    "|Length|0.236543|0.309666|-0.551465|1.000000|0.986812|0.827554|0.925261|0.897914|0.903018|0.897706|0.556720 \n",
    "|Diamter|0.240376|0.318626|-0.564315|0.986812|1.000000|0.833684|0.925452|0.893162|0.899724|0.905330|0.574660\n",
    "|Height|0.215459|0.298421|-0.518552|0.827554|0.833684|1.000000|0.819221|0.774972|0.798319|0.817338|0.557467 \n",
    "|WholeWeight|0.252038|0.299741|-0.557592|0.925261|0.925452|0.819221|1.000000|0.969405|0.966375|0.955355|0.540390    \n",
    "|ShuckedWeight|0.251793|0.263991|-0.521842|0.897914|0.893162|0.774972|0.969405|1.000000|0.931961|0.882617|0.420884   \n",
    "|VisceraWeight|0.242194|0.308444|-0.556081|0.903018|0.899724|0.798319|0.966375|0.931961|1.000000|0.907656|0.503819   \n",
    "|SellWeight|0.235391|0.306319|-0.546953|0.897706|0.905330|0.817338|0.955355|0.882617|0.907656|1.000000|0.627574  \n",
    "|Rings|0.181831|0.250279|-0.436063|0.556720|0.574660|0.557467|0.540390|0.420884|0.503819|0.627574|1.000000    \n",
    "\n",
    "\n",
    "\n",
    "## Visualization\n",
    "- Some preprocessing won't be done before the visualization as shown below.\n"
   ]
  },
  {
   "cell_type": "code",
   "execution_count": 2,
   "metadata": {},
   "outputs": [
    {
     "name": "stdout",
     "output_type": "stream",
     "text": [
      "[1, 1, 15, 57, 115, 259, 391, 568, 689, 634, 487, 267, 203, 126, 103, 67, 58, 42, 32, 26, 14, 6, 9, 2, 1, 1, 2, 0, 1]\n"
     ]
    }
   ],
   "source": [
    "# count the numbers of every class, which is included in the instruction.\n",
    "# print(data.dtypes)\n",
    "counts = []\n",
    "for i in range(1, 30):\n",
    "    count = data.loc[lambda df: df[\"Rings\"] == float(i)]\n",
    "    counts.append(count.shape[0])\n",
    "\n",
    "print(counts)\n"
   ]
  },
  {
   "cell_type": "code",
   "execution_count": 3,
   "metadata": {},
   "outputs": [
    {
     "data": {
      "image/png": "[encoded data removed]",
      "text/plain": [
       "<Figure size 432x288 with 1 Axes>"
      ]
     },
     "metadata": {},
     "output_type": "display_data"
    }
   ],
   "source": [
    "%matplotlib inline\n",
    "import matplotlib.pyplot as plt\n",
    "\n",
    "plt.bar(range(1, 30), counts)\n",
    "plt.show()\n"
   ]
  },
  {
   "cell_type": "markdown",
   "metadata": {},
   "source": [
    "- As you see the class distribution looks like the Gauss distribution, which we need to seperate the class like that "
   ]
  },
  {
   "cell_type": "code",
   "execution_count": 4,
   "metadata": {},
   "outputs": [
    {
     "data": {
      "image/png": "[encoded data removed]",
      "text/plain": [
       "<Figure size 432x288 with 2 Axes>"
      ]
     },
     "metadata": {},
     "output_type": "display_data"
    }
   ],
   "source": [
    "\n",
    "\n",
    "\n",
    "\n",
    "def ManualMap(x):\n",
    "    array = [1, 3, 4, 5, 6, 7, 8, 9, 10, 11, 13, 16, 29]\n",
    "    for i in range(len(array)):\n",
    "        if x <= array[0]:\n",
    "            return 0\n",
    "        if array[i] <= x <= array[i + 1]:\n",
    "            return i + 1\n",
    "        if x >= array[-1]:\n",
    "            return len(array)\n",
    "        \n",
    "def LogMap(x):\n",
    "    array = np.around(np.geomspace(1, 29, 13))\n",
    "    for i in range(len(array)):\n",
    "        if x <= array[0]:\n",
    "            return 0\n",
    "        if array[i] <= x <= array[i + 1]:\n",
    "            return i + 1\n",
    "        if x >= array[-1]:\n",
    "            return len(array)\n",
    "\n",
    "d1 = pd.DataFrame(data[\"Rings\"].map(ManualMap)) #[i for i in map(fun, data[\"Rings\"])\n",
    "# print(d1.shape, d1.columns)\n",
    "\n",
    "counts = []\n",
    "for i in range(1, 30):\n",
    "    count = d1.loc[lambda df: df[\"Rings\"] == i].shape[0]\n",
    "    if count != 0:\n",
    "        counts.append(count)\n",
    "\n",
    "plt.subplot(\"121\")\n",
    "plt.bar(range(len(counts)), counts)\n",
    "plt.xticks(range(len(counts)))\n",
    "plt.xlabel(\"Seperate By ManualMap\")\n",
    "\n",
    "data[\"Rings\"] = data[\"Rings\"].map(LogMap) #[i for i in map(fun, data[\"Rings\"])\n",
    "\n",
    "counts = []\n",
    "for i in range(1, 30):\n",
    "    count = data.loc[lambda df: df[\"Rings\"] == i].shape[0]\n",
    "    if count != 0:\n",
    "        counts.append(count)\n",
    "\n",
    "plt.subplot(\"122\")\n",
    "plt.bar(range(len(counts)), counts)\n",
    "plt.xticks(range(len(counts)))\n",
    "plt.xlabel(\"Seperate By LogMap\")\n",
    "\n",
    "plt.tight_layout()\n",
    "plt.show()\n",
    "\n",
    "#data[\"Rings\"] = d1\n",
    "\n",
    "data = data.values.astype(np.float)"
   ]
  },
  {
   "cell_type": "markdown",
   "metadata": {},
   "source": [
    "- Here you can see that with `ManualMap` seperating the classes into 13 classes, and the result will be disperse.\n",
    "- While divide the class into 13 classes with `LogMap`, it looks more likely the Gauss distribution.\n",
    "\n",
    "## Model builting"
   ]
  },
  {
   "cell_type": "code",
   "execution_count": 5,
   "metadata": {},
   "outputs": [
    {
     "name": "stdout",
     "output_type": "stream",
     "text": [
      "*54.066985645933016*\n",
      "*54.567225453301404*\n",
      "[0.5452381  0.51913876 0.56971154]\n"
     ]
    }
   ],
   "source": [
    "from sklearn.svm import SVC\n",
    "from sklearn.preprocessing import MinMaxScaler\n",
    "from sklearn.model_selection import train_test_split, cross_val_score\n",
    "from sklearn.ensemble import GradientBoostingClassifier\n",
    "\n",
    "\n",
    "mms = MinMaxScaler()\n",
    "mms.fit_transform(data[:, :-1])\n",
    "\n",
    "X_train, X_test, y_train, y_test = train_test_split(data[:, :-1], data[:, -1], test_size=0.3)\n",
    "\n",
    "def getScore(clf, X_test, y_test):\n",
    "    yPre = np.round(clf.predict(X_test))\n",
    "    # print(np.hstack((yPre, y_test.reshape(X_test.shape[0], 1))))\n",
    "    acc = (yPre == y_test)\n",
    "    print(f\"{np.mean(acc) * 100:*^20}\")\n",
    "\n",
    "\n",
    "clf = SVC(gamma=10)\n",
    "#clf = GradientBoostingClassifier(n_estimators=50, max_depth=2, learning_rate=0.5)\n",
    "\n",
    "clf.fit(X_train, y_train)\n",
    "getScore(clf, X_test, y_test)\n",
    "getScore(clf, X_train, y_train)\n",
    "\n",
    "print(cross_val_score(clf, X_test, y_test))\n",
    "\n",
    "\n",
    "\n"
   ]
  },
  {
   "cell_type": "markdown",
   "metadata": {},
   "source": [
    "- It turns out that seperate into 13 classes is still to many for the classifiers to work with.You can try the 3-classes method to retrain the model, and the accuracy will be better than 80%.\n",
    "- According to the offical suggestion, KNN and SVM working on the raw data, which has 20+ classes, get poor result.\n",
    "- BTW: If you want to get better result try manualy seperate with array\\[1, 3 ,5, 8, 11, 29\\]"
   ]
  },
  {
   "cell_type": "markdown",
   "metadata": {},
   "source": [
    "## Summary\n",
    "- The data sets beat me at the first place.For a long time, i have been working on Iris data set, which many classifier can do quite a good job.\n",
    "- It reminded me of the importance of the accuracy of the training set and `cross_validation` result"
   ]
  },
  {
   "cell_type": "code",
   "execution_count": null,
   "metadata": {},
   "outputs": [],
   "source": []
  }
 ],
 "metadata": {
  "kernelspec": {
   "display_name": "Python 3",
   "language": "python",
   "name": "python3"
  },
  "language_info": {
   "codemirror_mode": {
    "name": "ipython",
    "version": 3
   },
   "file_extension": ".py",
   "mimetype": "text/x-python",
   "name": "python",
   "nbconvert_exporter": "python",
   "pygments_lexer": "ipython3",
   "version": "3.6.4"
  }
 },
 "nbformat": 4,
 "nbformat_minor": 2
}
